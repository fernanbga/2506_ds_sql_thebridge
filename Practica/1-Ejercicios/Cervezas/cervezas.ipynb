{
 "cells": [
  {
   "cell_type": "code",
   "execution_count": 2,
   "id": "21fa3423-535c-48ff-ad17-0fe561779f7d",
   "metadata": {},
   "outputs": [],
   "source": [
    "import pandas as pd\n",
    "import sqlite3"
   ]
  },
  {
   "cell_type": "code",
   "execution_count": 3,
   "id": "9fe60d26-ac2e-4c7c-88af-7e5625c8a70a",
   "metadata": {},
   "outputs": [],
   "source": [
    "# conectamos con la base de datos my_database.db\n",
    "connection = sqlite3.connect(\"database_cervezas.db\")\n",
    "\n",
    "# obtenemos un cursor que utilizamos para las queries\n",
    "crsr = connection.cursor()\n"
   ]
  },
  {
   "cell_type": "code",
   "execution_count": 4,
   "id": "48a7224a-6f92-41ac-9c71-4e579e7d68bf",
   "metadata": {},
   "outputs": [],
   "source": [
    "# Con esta función leemos los datos y lo pasamos a un DataFrame de Pandas\n",
    "def sql_query(query):\n",
    "\n",
    "    # Ejecuta la query\n",
    "    crsr.execute(query)\n",
    "\n",
    "    # Almacena los datos de la query \n",
    "    ans = crsr.fetchall()\n",
    "\n",
    "    # Obtenemos los nombres de las columnas de la tabla\n",
    "    names = [description[0] for description in crsr.description]\n",
    "\n",
    "    return pd.DataFrame(ans,columns=names)"
   ]
  },
  {
   "cell_type": "code",
   "execution_count": 5,
   "id": "a710861e-d72c-479f-8535-4f053d99c209",
   "metadata": {},
   "outputs": [
    {
     "name": "stdout",
     "output_type": "stream",
     "text": [
      "cervezas\n",
      "bares\n",
      "empleados\n",
      "reparto\n"
     ]
    }
   ],
   "source": [
    "res = crsr.execute(\"SELECT name FROM sqlite_master WHERE type='table'\")\n",
    "for name in res:\n",
    "    print(name[0])"
   ]
  },
  {
   "cell_type": "code",
   "execution_count": 6,
   "id": "9b761194-1037-47cd-b615-52d5be6bb6a1",
   "metadata": {},
   "outputs": [
    {
     "data": {
      "text/plain": [
       "<sqlite3.Cursor at 0x10d32ce40>"
      ]
     },
     "execution_count": 6,
     "metadata": {},
     "output_type": "execute_result"
    }
   ],
   "source": [
    "query = '''\n",
    "CREATE TABLE IF NOT EXISTS cervezas (\n",
    "    CodC VARCHAR(2),\n",
    "    Envase VARCHAR(32),\n",
    "    Capacidad FLOAT(2),\n",
    "    Stock INT(5),\n",
    "    PRIMARY KEY (CodC)\n",
    ")\n",
    "'''\n",
    "\n",
    "crsr.execute(query)"
   ]
  },
  {
   "cell_type": "code",
   "execution_count": 7,
   "id": "55ac1ba2-c8ca-4f7d-af0e-6e1b51c72295",
   "metadata": {},
   "outputs": [
    {
     "data": {
      "text/plain": [
       "<sqlite3.Cursor at 0x10d32ce40>"
      ]
     },
     "execution_count": 7,
     "metadata": {},
     "output_type": "execute_result"
    }
   ],
   "source": [
    "query = '''\n",
    "CREATE TABLE IF NOT EXISTS bares (\n",
    "    CodB VARCHAR(2),\n",
    "    Nombre VARCHAR(32),\n",
    "    Cif VARCHAR(32),\n",
    "    Localidad VARCHAR(32),\n",
    "    PRIMARY KEY (CodB)\n",
    ")\n",
    "'''\n",
    "\n",
    "crsr.execute(query)"
   ]
  },
  {
   "cell_type": "code",
   "execution_count": 8,
   "id": "b5af73cd",
   "metadata": {},
   "outputs": [
    {
     "data": {
      "text/plain": [
       "<sqlite3.Cursor at 0x10d32ce40>"
      ]
     },
     "execution_count": 8,
     "metadata": {},
     "output_type": "execute_result"
    }
   ],
   "source": [
    "query = '''\n",
    "CREATE TABLE IF NOT EXISTS empleados (\n",
    "    CodE VARCHAR(2),\n",
    "    Nombre VARCHAR(32),\n",
    "    Sueldo INT(5),\n",
    "    PRIMARY KEY (CodE)\n",
    ")\n",
    "'''\n",
    "\n",
    "crsr.execute(query)"
   ]
  },
  {
   "cell_type": "code",
   "execution_count": 9,
   "id": "c2acfefb",
   "metadata": {},
   "outputs": [
    {
     "data": {
      "text/plain": [
       "<sqlite3.Cursor at 0x10d32ce40>"
      ]
     },
     "execution_count": 9,
     "metadata": {},
     "output_type": "execute_result"
    }
   ],
   "source": [
    "query = '''\n",
    "DROP TABLE IF EXISTS reparto;\n",
    "'''\n",
    "crsr.execute(query)"
   ]
  },
  {
   "cell_type": "code",
   "execution_count": 10,
   "id": "aed4f5d5-8a78-497f-b95d-1ce281ef74c7",
   "metadata": {},
   "outputs": [
    {
     "data": {
      "text/plain": [
       "<sqlite3.Cursor at 0x10d32ce40>"
      ]
     },
     "execution_count": 10,
     "metadata": {},
     "output_type": "execute_result"
    }
   ],
   "source": [
    "query = '''\n",
    "CREATE TABLE IF NOT EXISTS reparto (\n",
    "    CodE VARCHAR(2) NOT NULL,\n",
    "    CodB VARCHAR(2) NOT NULL,\n",
    "    CodC VARCHAR(2) NOT NULL,\n",
    "    Fecha DATE NOT NULL,\n",
    "    Cantidad SMALLINT,\n",
    "    PRIMARY KEY  (CodE,CodB,CodC,fecha),\n",
    "    FOREIGN KEY (CodE) REFERENCES empleados(CodE),\n",
    "    FOREIGN KEY (CodB) REFERENCES bares(CodB),\n",
    "    FOREIGN KEY (CodC) REFERENCES cervezas(CodC)\n",
    ");\n",
    "'''\n",
    "crsr.execute(query)"
   ]
  },
  {
   "cell_type": "code",
   "execution_count": 11,
   "id": "c9e845b6-1057-47ab-a4c2-839afce73a91",
   "metadata": {},
   "outputs": [
    {
     "data": {
      "text/plain": [
       "<sqlite3.Cursor at 0x10d32ce40>"
      ]
     },
     "execution_count": 11,
     "metadata": {},
     "output_type": "execute_result"
    }
   ],
   "source": [
    "query = '''\n",
    "INSERT OR REPLACE INTO empleados VALUES ('1','Carlos Lopez',120000),\n",
    "('2', 'Rosa Perez', 110000),\n",
    "('3', 'Luisa Garcia', 100000)\n",
    "'''\n",
    "# CRUD Create Register(insert) Update Delete\n",
    "crsr.execute(query)"
   ]
  },
  {
   "cell_type": "code",
   "execution_count": 12,
   "id": "58b324fa-06a2-4ae6-a2c8-ae910c7d5664",
   "metadata": {},
   "outputs": [
    {
     "data": {
      "text/plain": [
       "<sqlite3.Cursor at 0x10d32ce40>"
      ]
     },
     "execution_count": 12,
     "metadata": {},
     "output_type": "execute_result"
    }
   ],
   "source": [
    "query = '''\n",
    "INSERT OR REPLACE INTO bares VALUES ('001','Stop', '11111111X','Villa Botijo'),\n",
    "('002', 'Las Vegas', '22222222Y', 'Villa Botijo'),\n",
    "('003', 'Club Social', NULL, 'Las Ranas'),\n",
    "('004','Otra Ronda','33333333Z','La Esponja')\n",
    "'''\n",
    "crsr.execute(query)"
   ]
  },
  {
   "cell_type": "code",
   "execution_count": 13,
   "id": "5fad6d0a-0e8c-49ac-b59b-53f9348fa0f6",
   "metadata": {},
   "outputs": [
    {
     "data": {
      "text/plain": [
       "<sqlite3.Cursor at 0x10d32ce40>"
      ]
     },
     "execution_count": 13,
     "metadata": {},
     "output_type": "execute_result"
    }
   ],
   "source": [
    "query = '''\n",
    "INSERT OR IGNORE INTO cervezas VALUES ('01','Botella',0.2,3600),\n",
    "('02', 'Botella', 0.33, 1200),\n",
    "('03', 'Lata', 0.33, 2400),\n",
    "('04','Botella',1,288),\n",
    "('05','Barril',60,30)\n",
    "'''\n",
    "crsr.execute(query)"
   ]
  },
  {
   "cell_type": "code",
   "execution_count": 14,
   "id": "15c5542b",
   "metadata": {},
   "outputs": [
    {
     "data": {
      "text/plain": [
       "<sqlite3.Cursor at 0x10d32ce40>"
      ]
     },
     "execution_count": 14,
     "metadata": {},
     "output_type": "execute_result"
    }
   ],
   "source": [
    "query = '''\n",
    "INSERT OR IGNORE INTO reparto VALUES \n",
    "('1', '001', '01', '2005-10-21', 240),\n",
    "('1', '001', '02', '2005-10-21', 48),\n",
    "('1', '002', '03', '2005-10-22', 60),\n",
    "('1', '004', '05', '2005-10-22', 4),\n",
    "('2', '002', '03', '2005-10-22', 48),\n",
    "('2', '002', '05', '2005-10-23', 2),\n",
    "('2', '004', '01', '2005-10-23', 480),\n",
    "('2', '004', '02', '2005-10-24', 72),\n",
    "('3', '003', '03', '2005-10-24', 48),\n",
    "('3', '003', '04', '2005-10-25', 20)\n",
    "'''\n",
    "\n",
    "crsr.execute(query)"
   ]
  },
  {
   "cell_type": "code",
   "execution_count": 26,
   "id": "5a780ae4",
   "metadata": {},
   "outputs": [
    {
     "data": {
      "text/html": [
       "<div>\n",
       "<style scoped>\n",
       "    .dataframe tbody tr th:only-of-type {\n",
       "        vertical-align: middle;\n",
       "    }\n",
       "\n",
       "    .dataframe tbody tr th {\n",
       "        vertical-align: top;\n",
       "    }\n",
       "\n",
       "    .dataframe thead th {\n",
       "        text-align: right;\n",
       "    }\n",
       "</style>\n",
       "<table border=\"1\" class=\"dataframe\">\n",
       "  <thead>\n",
       "    <tr style=\"text-align: right;\">\n",
       "      <th></th>\n",
       "      <th>CodE</th>\n",
       "      <th>CodB</th>\n",
       "      <th>CodC</th>\n",
       "      <th>Fecha</th>\n",
       "      <th>Cantidad</th>\n",
       "    </tr>\n",
       "  </thead>\n",
       "  <tbody>\n",
       "    <tr>\n",
       "      <th>0</th>\n",
       "      <td>1</td>\n",
       "      <td>001</td>\n",
       "      <td>01</td>\n",
       "      <td>2005-10-21</td>\n",
       "      <td>240</td>\n",
       "    </tr>\n",
       "    <tr>\n",
       "      <th>1</th>\n",
       "      <td>1</td>\n",
       "      <td>001</td>\n",
       "      <td>02</td>\n",
       "      <td>2005-10-21</td>\n",
       "      <td>48</td>\n",
       "    </tr>\n",
       "    <tr>\n",
       "      <th>2</th>\n",
       "      <td>1</td>\n",
       "      <td>002</td>\n",
       "      <td>03</td>\n",
       "      <td>2005-10-22</td>\n",
       "      <td>60</td>\n",
       "    </tr>\n",
       "    <tr>\n",
       "      <th>3</th>\n",
       "      <td>1</td>\n",
       "      <td>004</td>\n",
       "      <td>05</td>\n",
       "      <td>2005-10-22</td>\n",
       "      <td>4</td>\n",
       "    </tr>\n",
       "    <tr>\n",
       "      <th>4</th>\n",
       "      <td>2</td>\n",
       "      <td>002</td>\n",
       "      <td>03</td>\n",
       "      <td>2005-10-22</td>\n",
       "      <td>48</td>\n",
       "    </tr>\n",
       "    <tr>\n",
       "      <th>5</th>\n",
       "      <td>2</td>\n",
       "      <td>002</td>\n",
       "      <td>05</td>\n",
       "      <td>2005-10-23</td>\n",
       "      <td>2</td>\n",
       "    </tr>\n",
       "    <tr>\n",
       "      <th>6</th>\n",
       "      <td>2</td>\n",
       "      <td>004</td>\n",
       "      <td>01</td>\n",
       "      <td>2005-10-23</td>\n",
       "      <td>480</td>\n",
       "    </tr>\n",
       "    <tr>\n",
       "      <th>7</th>\n",
       "      <td>2</td>\n",
       "      <td>004</td>\n",
       "      <td>02</td>\n",
       "      <td>2005-10-24</td>\n",
       "      <td>72</td>\n",
       "    </tr>\n",
       "    <tr>\n",
       "      <th>8</th>\n",
       "      <td>3</td>\n",
       "      <td>003</td>\n",
       "      <td>03</td>\n",
       "      <td>2005-10-24</td>\n",
       "      <td>48</td>\n",
       "    </tr>\n",
       "    <tr>\n",
       "      <th>9</th>\n",
       "      <td>3</td>\n",
       "      <td>003</td>\n",
       "      <td>04</td>\n",
       "      <td>2005-10-25</td>\n",
       "      <td>20</td>\n",
       "    </tr>\n",
       "  </tbody>\n",
       "</table>\n",
       "</div>"
      ],
      "text/plain": [
       "  CodE CodB CodC       Fecha  Cantidad\n",
       "0    1  001   01  2005-10-21       240\n",
       "1    1  001   02  2005-10-21        48\n",
       "2    1  002   03  2005-10-22        60\n",
       "3    1  004   05  2005-10-22         4\n",
       "4    2  002   03  2005-10-22        48\n",
       "5    2  002   05  2005-10-23         2\n",
       "6    2  004   01  2005-10-23       480\n",
       "7    2  004   02  2005-10-24        72\n",
       "8    3  003   03  2005-10-24        48\n",
       "9    3  003   04  2005-10-25        20"
      ]
     },
     "execution_count": 26,
     "metadata": {},
     "output_type": "execute_result"
    }
   ],
   "source": [
    "query = '''\n",
    "SELECT * FROM reparto\n",
    "'''\n",
    "sql_query(query)"
   ]
  },
  {
   "cell_type": "code",
   "execution_count": 15,
   "id": "2ee631fd-0712-4a3b-852e-e80adcc9e06b",
   "metadata": {},
   "outputs": [
    {
     "data": {
      "text/html": [
       "<div>\n",
       "<style scoped>\n",
       "    .dataframe tbody tr th:only-of-type {\n",
       "        vertical-align: middle;\n",
       "    }\n",
       "\n",
       "    .dataframe tbody tr th {\n",
       "        vertical-align: top;\n",
       "    }\n",
       "\n",
       "    .dataframe thead th {\n",
       "        text-align: right;\n",
       "    }\n",
       "</style>\n",
       "<table border=\"1\" class=\"dataframe\">\n",
       "  <thead>\n",
       "    <tr style=\"text-align: right;\">\n",
       "      <th></th>\n",
       "      <th>Nombre</th>\n",
       "    </tr>\n",
       "  </thead>\n",
       "  <tbody>\n",
       "    <tr>\n",
       "      <th>0</th>\n",
       "      <td>Carlos Lopez</td>\n",
       "    </tr>\n",
       "  </tbody>\n",
       "</table>\n",
       "</div>"
      ],
      "text/plain": [
       "         Nombre\n",
       "0  Carlos Lopez"
      ]
     },
     "execution_count": 15,
     "metadata": {},
     "output_type": "execute_result"
    }
   ],
   "source": [
    "# 1 Obtener el nombre de los empleados que hayan repartido al bar Stop durante la semana \n",
    "# del 17 al 23 de octubre de 2005.\n",
    "\n",
    "query = '''\n",
    "SELECT DISTINCT empleados.Nombre\n",
    "FROM reparto \n",
    "LEFT JOIN bares\n",
    "ON reparto.CodB = bares.CodB\n",
    "LEFT JOIN empleados\n",
    "ON reparto.CodE = empleados.CodE\n",
    "WHERE bares.Nombre = \"Stop\" AND reparto.Fecha BETWEEN '17/10/2005' AND '23/10/2005'\n",
    "'''\n",
    "\n",
    "sql_query(query)"
   ]
  },
  {
   "cell_type": "code",
   "execution_count": 16,
   "id": "ad5fa98a-947b-4c19-a049-488074242cb7",
   "metadata": {},
   "outputs": [
    {
     "data": {
      "text/html": [
       "<div>\n",
       "<style scoped>\n",
       "    .dataframe tbody tr th:only-of-type {\n",
       "        vertical-align: middle;\n",
       "    }\n",
       "\n",
       "    .dataframe tbody tr th {\n",
       "        vertical-align: top;\n",
       "    }\n",
       "\n",
       "    .dataframe thead th {\n",
       "        text-align: right;\n",
       "    }\n",
       "</style>\n",
       "<table border=\"1\" class=\"dataframe\">\n",
       "  <thead>\n",
       "    <tr style=\"text-align: right;\">\n",
       "      <th></th>\n",
       "      <th>Cif</th>\n",
       "      <th>Nombre</th>\n",
       "    </tr>\n",
       "  </thead>\n",
       "  <tbody>\n",
       "    <tr>\n",
       "      <th>0</th>\n",
       "      <td>33333333Z</td>\n",
       "      <td>Otra Ronda</td>\n",
       "    </tr>\n",
       "    <tr>\n",
       "      <th>1</th>\n",
       "      <td>11111111X</td>\n",
       "      <td>Stop</td>\n",
       "    </tr>\n",
       "  </tbody>\n",
       "</table>\n",
       "</div>"
      ],
      "text/plain": [
       "         Cif      Nombre\n",
       "0  33333333Z  Otra Ronda\n",
       "1  11111111X        Stop"
      ]
     },
     "execution_count": 16,
     "metadata": {},
     "output_type": "execute_result"
    }
   ],
   "source": [
    "#2\n",
    "query = '''\n",
    "SELECT DISTINCT bares.Cif, bares.Nombre\n",
    "FROM reparto \n",
    "LEFT JOIN bares\n",
    "ON reparto.CodB = bares.CodB\n",
    "LEFT JOIN cervezas\n",
    "ON reparto.CodC = cervezas.CodC\n",
    "WHERE cervezas.Envase = \"Botella\" AND cervezas.Capacidad < 1\n",
    "ORDER BY bares.Localidad\n",
    "'''\n",
    "\n",
    "sql_query(query)"
   ]
  },
  {
   "cell_type": "code",
   "execution_count": 17,
   "id": "decae038-7948-40ba-b9e3-5c150153b640",
   "metadata": {},
   "outputs": [
    {
     "data": {
      "text/html": [
       "<div>\n",
       "<style scoped>\n",
       "    .dataframe tbody tr th:only-of-type {\n",
       "        vertical-align: middle;\n",
       "    }\n",
       "\n",
       "    .dataframe tbody tr th {\n",
       "        vertical-align: top;\n",
       "    }\n",
       "\n",
       "    .dataframe thead th {\n",
       "        text-align: right;\n",
       "    }\n",
       "</style>\n",
       "<table border=\"1\" class=\"dataframe\">\n",
       "  <thead>\n",
       "    <tr style=\"text-align: right;\">\n",
       "      <th></th>\n",
       "      <th>Nombre</th>\n",
       "      <th>Envase</th>\n",
       "      <th>Capacidad</th>\n",
       "      <th>Fecha</th>\n",
       "      <th>Cantidad</th>\n",
       "    </tr>\n",
       "  </thead>\n",
       "  <tbody>\n",
       "    <tr>\n",
       "      <th>0</th>\n",
       "      <td>Stop</td>\n",
       "      <td>Botella</td>\n",
       "      <td>0.20</td>\n",
       "      <td>2005-10-21</td>\n",
       "      <td>240</td>\n",
       "    </tr>\n",
       "    <tr>\n",
       "      <th>1</th>\n",
       "      <td>Stop</td>\n",
       "      <td>Botella</td>\n",
       "      <td>0.33</td>\n",
       "      <td>2005-10-21</td>\n",
       "      <td>48</td>\n",
       "    </tr>\n",
       "    <tr>\n",
       "      <th>2</th>\n",
       "      <td>Las Vegas</td>\n",
       "      <td>Lata</td>\n",
       "      <td>0.33</td>\n",
       "      <td>2005-10-22</td>\n",
       "      <td>60</td>\n",
       "    </tr>\n",
       "    <tr>\n",
       "      <th>3</th>\n",
       "      <td>Otra Ronda</td>\n",
       "      <td>Barril</td>\n",
       "      <td>60.00</td>\n",
       "      <td>2005-10-22</td>\n",
       "      <td>4</td>\n",
       "    </tr>\n",
       "    <tr>\n",
       "      <th>4</th>\n",
       "      <td>Las Vegas</td>\n",
       "      <td>Lata</td>\n",
       "      <td>0.33</td>\n",
       "      <td>2005-10-22</td>\n",
       "      <td>48</td>\n",
       "    </tr>\n",
       "    <tr>\n",
       "      <th>5</th>\n",
       "      <td>Las Vegas</td>\n",
       "      <td>Barril</td>\n",
       "      <td>60.00</td>\n",
       "      <td>2005-10-23</td>\n",
       "      <td>2</td>\n",
       "    </tr>\n",
       "    <tr>\n",
       "      <th>6</th>\n",
       "      <td>Otra Ronda</td>\n",
       "      <td>Botella</td>\n",
       "      <td>0.20</td>\n",
       "      <td>2005-10-23</td>\n",
       "      <td>480</td>\n",
       "    </tr>\n",
       "    <tr>\n",
       "      <th>7</th>\n",
       "      <td>Otra Ronda</td>\n",
       "      <td>Botella</td>\n",
       "      <td>0.33</td>\n",
       "      <td>2005-10-24</td>\n",
       "      <td>72</td>\n",
       "    </tr>\n",
       "    <tr>\n",
       "      <th>8</th>\n",
       "      <td>Club Social</td>\n",
       "      <td>Lata</td>\n",
       "      <td>0.33</td>\n",
       "      <td>2005-10-24</td>\n",
       "      <td>48</td>\n",
       "    </tr>\n",
       "    <tr>\n",
       "      <th>9</th>\n",
       "      <td>Club Social</td>\n",
       "      <td>Botella</td>\n",
       "      <td>1.00</td>\n",
       "      <td>2005-10-25</td>\n",
       "      <td>20</td>\n",
       "    </tr>\n",
       "  </tbody>\n",
       "</table>\n",
       "</div>"
      ],
      "text/plain": [
       "        Nombre   Envase  Capacidad       Fecha  Cantidad\n",
       "0         Stop  Botella       0.20  2005-10-21       240\n",
       "1         Stop  Botella       0.33  2005-10-21        48\n",
       "2    Las Vegas     Lata       0.33  2005-10-22        60\n",
       "3   Otra Ronda   Barril      60.00  2005-10-22         4\n",
       "4    Las Vegas     Lata       0.33  2005-10-22        48\n",
       "5    Las Vegas   Barril      60.00  2005-10-23         2\n",
       "6   Otra Ronda  Botella       0.20  2005-10-23       480\n",
       "7   Otra Ronda  Botella       0.33  2005-10-24        72\n",
       "8  Club Social     Lata       0.33  2005-10-24        48\n",
       "9  Club Social  Botella       1.00  2005-10-25        20"
      ]
     },
     "execution_count": 17,
     "metadata": {},
     "output_type": "execute_result"
    }
   ],
   "source": [
    "#3 3. Obtener  los  repartos  (nombre  del  bar,  envase  y  \n",
    "# capacidad  de  la  bebida, fecha y cantidad) realizados \n",
    "# por Carlos Lopez\n",
    "query = '''\n",
    "SELECT DISTINCT bares.Nombre, cervezas.Envase, cervezas.Capacidad, reparto.Fecha, reparto.Cantidad\n",
    "FROM reparto \n",
    "LEFT JOIN bares\n",
    "ON reparto.CodB = bares.CodB\n",
    "LEFT JOIN cervezas\n",
    "ON reparto.CodC = cervezas.CodC\n",
    "\n",
    "'''\n",
    "\n",
    "sql_query(query)"
   ]
  },
  {
   "cell_type": "code",
   "execution_count": 27,
   "id": "2a176819-90fa-4ed1-ae8e-0ce753cf01ce",
   "metadata": {},
   "outputs": [
    {
     "data": {
      "text/html": [
       "<div>\n",
       "<style scoped>\n",
       "    .dataframe tbody tr th:only-of-type {\n",
       "        vertical-align: middle;\n",
       "    }\n",
       "\n",
       "    .dataframe tbody tr th {\n",
       "        vertical-align: top;\n",
       "    }\n",
       "\n",
       "    .dataframe thead th {\n",
       "        text-align: right;\n",
       "    }\n",
       "</style>\n",
       "<table border=\"1\" class=\"dataframe\">\n",
       "  <thead>\n",
       "    <tr style=\"text-align: right;\">\n",
       "      <th></th>\n",
       "      <th>Nombre</th>\n",
       "      <th>Envase</th>\n",
       "      <th>Capacidad</th>\n",
       "    </tr>\n",
       "  </thead>\n",
       "  <tbody>\n",
       "    <tr>\n",
       "      <th>0</th>\n",
       "      <td>Stop</td>\n",
       "      <td>Botella</td>\n",
       "      <td>0.20</td>\n",
       "    </tr>\n",
       "    <tr>\n",
       "      <th>1</th>\n",
       "      <td>Stop</td>\n",
       "      <td>Botella</td>\n",
       "      <td>0.33</td>\n",
       "    </tr>\n",
       "    <tr>\n",
       "      <th>2</th>\n",
       "      <td>Otra Ronda</td>\n",
       "      <td>Botella</td>\n",
       "      <td>0.20</td>\n",
       "    </tr>\n",
       "    <tr>\n",
       "      <th>3</th>\n",
       "      <td>Otra Ronda</td>\n",
       "      <td>Botella</td>\n",
       "      <td>0.33</td>\n",
       "    </tr>\n",
       "  </tbody>\n",
       "</table>\n",
       "</div>"
      ],
      "text/plain": [
       "       Nombre   Envase  Capacidad\n",
       "0        Stop  Botella       0.20\n",
       "1        Stop  Botella       0.33\n",
       "2  Otra Ronda  Botella       0.20\n",
       "3  Otra Ronda  Botella       0.33"
      ]
     },
     "execution_count": 27,
     "metadata": {},
     "output_type": "execute_result"
    }
   ],
   "source": [
    "#4 Obtener  los  bares  a  los  que  se  les  ha  repartido  envases \n",
    "#  de  tipo  botella  y  capacidad  0.2  ó  0.33\n",
    "query = '''\n",
    "SELECT DISTINCT bares.Nombre, cervezas.Envase, cervezas.Capacidad\n",
    "FROM reparto\n",
    "LEFT JOIN bares\n",
    "ON reparto.CodB = bares.CodB\n",
    "LEFT JOIN cervezas\n",
    "ON reparto.CodC = cervezas.CodC\n",
    "WHERE cervezas.Envase = \"Botella\" AND cervezas.Capacidad IN (0.2, 0.33)\n",
    "'''\n",
    "sql_query(query)"
   ]
  },
  {
   "cell_type": "code",
   "execution_count": 28,
   "id": "9a05e91e-9b11-4953-9e53-86a53544c71d",
   "metadata": {},
   "outputs": [
    {
     "data": {
      "text/html": [
       "<div>\n",
       "<style scoped>\n",
       "    .dataframe tbody tr th:only-of-type {\n",
       "        vertical-align: middle;\n",
       "    }\n",
       "\n",
       "    .dataframe tbody tr th {\n",
       "        vertical-align: top;\n",
       "    }\n",
       "\n",
       "    .dataframe thead th {\n",
       "        text-align: right;\n",
       "    }\n",
       "</style>\n",
       "<table border=\"1\" class=\"dataframe\">\n",
       "  <thead>\n",
       "    <tr style=\"text-align: right;\">\n",
       "      <th></th>\n",
       "      <th>Nombre</th>\n",
       "      <th>Nombre</th>\n",
       "      <th>Envase</th>\n",
       "    </tr>\n",
       "  </thead>\n",
       "  <tbody>\n",
       "    <tr>\n",
       "      <th>0</th>\n",
       "      <td>Stop</td>\n",
       "      <td>Carlos Lopez</td>\n",
       "      <td>Botella</td>\n",
       "    </tr>\n",
       "    <tr>\n",
       "      <th>1</th>\n",
       "      <td>Stop</td>\n",
       "      <td>Carlos Lopez</td>\n",
       "      <td>Botella</td>\n",
       "    </tr>\n",
       "  </tbody>\n",
       "</table>\n",
       "</div>"
      ],
      "text/plain": [
       "  Nombre        Nombre   Envase\n",
       "0   Stop  Carlos Lopez  Botella\n",
       "1   Stop  Carlos Lopez  Botella"
      ]
     },
     "execution_count": 28,
     "metadata": {},
     "output_type": "execute_result"
    }
   ],
   "source": [
    "#5 Nombre de los empleados que han repartido a los bares \n",
    "# \"Stop\" y \"Las Vegas\" cervezas con envase botella\n",
    "query = '''\n",
    "SELECT bares.Nombre, empleados.Nombre, cervezas.Envase\n",
    "FROM reparto\n",
    "LEFT JOIN bares\n",
    "ON reparto.CodB = bares.CodB\n",
    "LEFT JOIN cervezas\n",
    "ON reparto.CodC = cervezas.CodC\n",
    "LEFT JOIN empleados\n",
    "ON reparto.CodE = empleados.CodE\n",
    "WHERE bares.Nombre IN (\"Stop\", \"Las Vegas\") AND cervezas.Envase = \"Botella\"\n",
    "'''\n",
    "sql_query(query)"
   ]
  },
  {
   "cell_type": "code",
   "execution_count": 20,
   "id": "e9814519-30ea-4e41-acd7-ff0652827315",
   "metadata": {},
   "outputs": [
    {
     "data": {
      "text/html": [
       "<div>\n",
       "<style scoped>\n",
       "    .dataframe tbody tr th:only-of-type {\n",
       "        vertical-align: middle;\n",
       "    }\n",
       "\n",
       "    .dataframe tbody tr th {\n",
       "        vertical-align: top;\n",
       "    }\n",
       "\n",
       "    .dataframe thead th {\n",
       "        text-align: right;\n",
       "    }\n",
       "</style>\n",
       "<table border=\"1\" class=\"dataframe\">\n",
       "  <thead>\n",
       "    <tr style=\"text-align: right;\">\n",
       "      <th></th>\n",
       "      <th>CodE</th>\n",
       "      <th>Nombre</th>\n",
       "      <th>Viajes</th>\n",
       "    </tr>\n",
       "  </thead>\n",
       "  <tbody>\n",
       "    <tr>\n",
       "      <th>0</th>\n",
       "      <td>1</td>\n",
       "      <td>Carlos Lopez</td>\n",
       "      <td>1</td>\n",
       "    </tr>\n",
       "    <tr>\n",
       "      <th>1</th>\n",
       "      <td>2</td>\n",
       "      <td>Rosa Perez</td>\n",
       "      <td>2</td>\n",
       "    </tr>\n",
       "    <tr>\n",
       "      <th>2</th>\n",
       "      <td>3</td>\n",
       "      <td>Luisa Garcia</td>\n",
       "      <td>2</td>\n",
       "    </tr>\n",
       "  </tbody>\n",
       "</table>\n",
       "</div>"
      ],
      "text/plain": [
       "  CodE        Nombre  Viajes\n",
       "0    1  Carlos Lopez       1\n",
       "1    2    Rosa Perez       2\n",
       "2    3  Luisa Garcia       2"
      ]
     },
     "execution_count": 20,
     "metadata": {},
     "output_type": "execute_result"
    }
   ],
   "source": [
    "#6\n",
    "query = '''\n",
    "SELECT empleados.CodE, empleados.Nombre, COUNT(*) 'Viajes'\n",
    "FROM reparto\n",
    "LEFT JOIN bares\n",
    "ON reparto.CodB = bares.CodB\n",
    "LEFT JOIN empleados\n",
    "ON reparto.CodE = empleados.CodE\n",
    "WHERE bares.localidad <> \"Villa Botijo\"\n",
    "GROUP BY empleados.CodE\n",
    "\n",
    "'''\n",
    "sql_query(query)"
   ]
  },
  {
   "cell_type": "code",
   "execution_count": 21,
   "id": "58018cd2-7fb6-4329-b247-961cf7f890e5",
   "metadata": {},
   "outputs": [
    {
     "data": {
      "text/html": [
       "<div>\n",
       "<style scoped>\n",
       "    .dataframe tbody tr th:only-of-type {\n",
       "        vertical-align: middle;\n",
       "    }\n",
       "\n",
       "    .dataframe tbody tr th {\n",
       "        vertical-align: top;\n",
       "    }\n",
       "\n",
       "    .dataframe thead th {\n",
       "        text-align: right;\n",
       "    }\n",
       "</style>\n",
       "<table border=\"1\" class=\"dataframe\">\n",
       "  <thead>\n",
       "    <tr style=\"text-align: right;\">\n",
       "      <th></th>\n",
       "      <th>Nombre</th>\n",
       "      <th>Localidad</th>\n",
       "      <th>Litros</th>\n",
       "    </tr>\n",
       "  </thead>\n",
       "  <tbody>\n",
       "    <tr>\n",
       "      <th>0</th>\n",
       "      <td>Otra Ronda</td>\n",
       "      <td>La Esponja</td>\n",
       "      <td>359.76</td>\n",
       "    </tr>\n",
       "  </tbody>\n",
       "</table>\n",
       "</div>"
      ],
      "text/plain": [
       "       Nombre   Localidad  Litros\n",
       "0  Otra Ronda  La Esponja  359.76"
      ]
     },
     "execution_count": 21,
     "metadata": {},
     "output_type": "execute_result"
    }
   ],
   "source": [
    "#7 Obtener el nombre y localidad del bar que más litros \n",
    "# de cerveza ha comprado.\n",
    "query = '''\n",
    "SELECT bares.Nombre, bares.Localidad, SUM(reparto.Cantidad * cervezas.Capacidad) AS Litros\n",
    "FROM reparto\n",
    "LEFT JOIN bares \n",
    "ON reparto.CodB = bares.CodB\n",
    "LEFT JOIN cervezas \n",
    "ON reparto.CodC = cervezas.CodC\n",
    "GROUP BY 1,2\n",
    "ORDER BY 3 DESC\n",
    "LIMIT 1\n",
    "'''\n",
    "sql_query(query)"
   ]
  },
  {
   "cell_type": "code",
   "execution_count": 22,
   "id": "81252167-20da-471d-af35-e96054d3d6c1",
   "metadata": {},
   "outputs": [
    {
     "data": {
      "text/html": [
       "<div>\n",
       "<style scoped>\n",
       "    .dataframe tbody tr th:only-of-type {\n",
       "        vertical-align: middle;\n",
       "    }\n",
       "\n",
       "    .dataframe tbody tr th {\n",
       "        vertical-align: top;\n",
       "    }\n",
       "\n",
       "    .dataframe thead th {\n",
       "        text-align: right;\n",
       "    }\n",
       "</style>\n",
       "<table border=\"1\" class=\"dataframe\">\n",
       "  <thead>\n",
       "    <tr style=\"text-align: right;\">\n",
       "      <th></th>\n",
       "      <th>Nombre</th>\n",
       "    </tr>\n",
       "  </thead>\n",
       "  <tbody>\n",
       "    <tr>\n",
       "      <th>0</th>\n",
       "      <td>Stop</td>\n",
       "    </tr>\n",
       "    <tr>\n",
       "      <th>1</th>\n",
       "      <td>Otra Ronda</td>\n",
       "    </tr>\n",
       "  </tbody>\n",
       "</table>\n",
       "</div>"
      ],
      "text/plain": [
       "       Nombre\n",
       "0        Stop\n",
       "1  Otra Ronda"
      ]
     },
     "execution_count": 22,
     "metadata": {},
     "output_type": "execute_result"
    }
   ],
   "source": [
    "#8 Obtener  los  bares  que  han  adquirido  todos  los  tipos  \n",
    "# de  cerveza  con  envase  de  botella   y capacidad menor \n",
    "# que 1 litro\n",
    "query = '''\n",
    "SELECT DISTINCT bares.Nombre \n",
    "FROM reparto\n",
    "LEFT JOIN bares \n",
    "ON reparto.CodB = bares.CodB\n",
    "LEFT JOIN cervezas \n",
    "ON reparto.CodC = cervezas.CodC\n",
    "WHERE cervezas.Envase = \"Botella\" AND cervezas.Capacidad < 1\n",
    "'''\n",
    "sql_query(query)"
   ]
  },
  {
   "cell_type": "code",
   "execution_count": 23,
   "id": "4478fcbf",
   "metadata": {},
   "outputs": [
    {
     "data": {
      "text/html": [
       "<div>\n",
       "<style scoped>\n",
       "    .dataframe tbody tr th:only-of-type {\n",
       "        vertical-align: middle;\n",
       "    }\n",
       "\n",
       "    .dataframe tbody tr th {\n",
       "        vertical-align: top;\n",
       "    }\n",
       "\n",
       "    .dataframe thead th {\n",
       "        text-align: right;\n",
       "    }\n",
       "</style>\n",
       "<table border=\"1\" class=\"dataframe\">\n",
       "  <thead>\n",
       "    <tr style=\"text-align: right;\">\n",
       "      <th></th>\n",
       "      <th>Dias_trabajados</th>\n",
       "      <th>CodE</th>\n",
       "      <th>Nombre</th>\n",
       "    </tr>\n",
       "  </thead>\n",
       "  <tbody>\n",
       "    <tr>\n",
       "      <th>0</th>\n",
       "      <td>3</td>\n",
       "      <td>2</td>\n",
       "      <td>Rosa Perez</td>\n",
       "    </tr>\n",
       "    <tr>\n",
       "      <th>1</th>\n",
       "      <td>2</td>\n",
       "      <td>3</td>\n",
       "      <td>Luisa Garcia</td>\n",
       "    </tr>\n",
       "    <tr>\n",
       "      <th>2</th>\n",
       "      <td>2</td>\n",
       "      <td>1</td>\n",
       "      <td>Carlos Lopez</td>\n",
       "    </tr>\n",
       "  </tbody>\n",
       "</table>\n",
       "</div>"
      ],
      "text/plain": [
       "   Dias_trabajados CodE        Nombre\n",
       "0                3    2    Rosa Perez\n",
       "1                2    3  Luisa Garcia\n",
       "2                2    1  Carlos Lopez"
      ]
     },
     "execution_count": 23,
     "metadata": {},
     "output_type": "execute_result"
    }
   ],
   "source": [
    "#9 Subir un 5% el sueldo del empleado que más días haya trabajado\n",
    "query = '''\n",
    "SELECT COUNT( DISTINCT reparto.Fecha) AS 'Dias_trabajados', empleados.CodE, empleados.Nombre\n",
    "FROM reparto\n",
    "LEFT JOIN empleados\n",
    "ON reparto.CodE = empleados.CodE\n",
    "GROUP BY empleados.CodE\n",
    "ORDER BY 1 DESC\n",
    "'''\n",
    "sql_query(query)"
   ]
  },
  {
   "cell_type": "code",
   "execution_count": 24,
   "id": "3294d19e-75ae-4450-abdb-f5479a180944",
   "metadata": {},
   "outputs": [
    {
     "data": {
      "text/html": [
       "<div>\n",
       "<style scoped>\n",
       "    .dataframe tbody tr th:only-of-type {\n",
       "        vertical-align: middle;\n",
       "    }\n",
       "\n",
       "    .dataframe tbody tr th {\n",
       "        vertical-align: top;\n",
       "    }\n",
       "\n",
       "    .dataframe thead th {\n",
       "        text-align: right;\n",
       "    }\n",
       "</style>\n",
       "<table border=\"1\" class=\"dataframe\">\n",
       "  <thead>\n",
       "    <tr style=\"text-align: right;\">\n",
       "      <th></th>\n",
       "      <th>T.Sueldo *1.05</th>\n",
       "    </tr>\n",
       "  </thead>\n",
       "  <tbody>\n",
       "    <tr>\n",
       "      <th>0</th>\n",
       "      <td>115500.0</td>\n",
       "    </tr>\n",
       "  </tbody>\n",
       "</table>\n",
       "</div>"
      ],
      "text/plain": [
       "   T.Sueldo *1.05\n",
       "0        115500.0"
      ]
     },
     "execution_count": 24,
     "metadata": {},
     "output_type": "execute_result"
    }
   ],
   "source": [
    "query = '''\n",
    "SELECT T.Sueldo *1.05\n",
    "FROM ( SELECT COUNT( DISTINCT reparto.Fecha) AS 'Dias_trabajados', empleados.CodE, empleados.Nombre, empleados.Sueldo\n",
    "FROM reparto\n",
    "LEFT JOIN empleados\n",
    "ON reparto.CodE = empleados.CodE\n",
    "GROUP BY empleados.CodE\n",
    "ORDER BY 1 DESC\n",
    "LIMIT 1) t\n",
    "'''\n",
    "sql_query(query)"
   ]
  },
  {
   "cell_type": "code",
   "execution_count": 29,
   "id": "3a73b70b-3dbc-4b2f-be51-e8b85af99791",
   "metadata": {},
   "outputs": [
    {
     "data": {
      "text/html": [
       "<div>\n",
       "<style scoped>\n",
       "    .dataframe tbody tr th:only-of-type {\n",
       "        vertical-align: middle;\n",
       "    }\n",
       "\n",
       "    .dataframe tbody tr th {\n",
       "        vertical-align: top;\n",
       "    }\n",
       "\n",
       "    .dataframe thead th {\n",
       "        text-align: right;\n",
       "    }\n",
       "</style>\n",
       "<table border=\"1\" class=\"dataframe\">\n",
       "  <thead>\n",
       "    <tr style=\"text-align: right;\">\n",
       "      <th></th>\n",
       "      <th>CodE</th>\n",
       "    </tr>\n",
       "  </thead>\n",
       "  <tbody>\n",
       "    <tr>\n",
       "      <th>0</th>\n",
       "      <td>2</td>\n",
       "    </tr>\n",
       "  </tbody>\n",
       "</table>\n",
       "</div>"
      ],
      "text/plain": [
       "  CodE\n",
       "0    2"
      ]
     },
     "execution_count": 29,
     "metadata": {},
     "output_type": "execute_result"
    }
   ],
   "source": [
    "query = '''\n",
    "SELECT t.CodE FROM\n",
    "(\n",
    "SELECT COUNT(DISTINCT reparto.Fecha) AS 'Dias_trabajados', empleados.CodE,  empleados.Sueldo\n",
    "FROM reparto\n",
    "LEFT JOIN empleados\n",
    "ON reparto.CodE = empleados.CodE\n",
    "GROUP BY empleados.CodE\n",
    "ORDER BY 1 DESC\n",
    "LIMIT 1) t     \n",
    "'''\n",
    "sql_query(query)"
   ]
  },
  {
   "cell_type": "code",
   "execution_count": 30,
   "id": "ca3eb4b2-606c-4b9e-814b-9a95fa9e91d0",
   "metadata": {},
   "outputs": [
    {
     "data": {
      "text/plain": [
       "<sqlite3.Cursor at 0x10d32ce40>"
      ]
     },
     "execution_count": 30,
     "metadata": {},
     "output_type": "execute_result"
    }
   ],
   "source": [
    "query = '''\n",
    "\n",
    "UPDATE empleados\n",
    "SET sueldo = sueldo * 1.05\n",
    "WHERE CodE IN (\n",
    "SELECT t.CodE FROM\n",
    "(\n",
    "SELECT COUNT(DISTINCT reparto.Fecha) AS 'Dias_trabajados', empleados.CodE,  empleados.Sueldo\n",
    "FROM reparto\n",
    "LEFT JOIN empleados\n",
    "ON reparto.CodE = empleados.CodE\n",
    "GROUP BY empleados.CodE\n",
    "ORDER BY 1 DESC\n",
    "LIMIT 1) t     \n",
    ")\n",
    "'''\n",
    "crsr.execute(query)"
   ]
  },
  {
   "cell_type": "code",
   "execution_count": 31,
   "id": "57ad9adb-2e35-495b-bdaa-e2fa17cfabb1",
   "metadata": {},
   "outputs": [
    {
     "data": {
      "text/html": [
       "<div>\n",
       "<style scoped>\n",
       "    .dataframe tbody tr th:only-of-type {\n",
       "        vertical-align: middle;\n",
       "    }\n",
       "\n",
       "    .dataframe tbody tr th {\n",
       "        vertical-align: top;\n",
       "    }\n",
       "\n",
       "    .dataframe thead th {\n",
       "        text-align: right;\n",
       "    }\n",
       "</style>\n",
       "<table border=\"1\" class=\"dataframe\">\n",
       "  <thead>\n",
       "    <tr style=\"text-align: right;\">\n",
       "      <th></th>\n",
       "      <th>CodE</th>\n",
       "      <th>Nombre</th>\n",
       "      <th>Sueldo</th>\n",
       "    </tr>\n",
       "  </thead>\n",
       "  <tbody>\n",
       "    <tr>\n",
       "      <th>0</th>\n",
       "      <td>2</td>\n",
       "      <td>Rosa Perez</td>\n",
       "      <td>115500</td>\n",
       "    </tr>\n",
       "  </tbody>\n",
       "</table>\n",
       "</div>"
      ],
      "text/plain": [
       "  CodE      Nombre  Sueldo\n",
       "0    2  Rosa Perez  115500"
      ]
     },
     "execution_count": 31,
     "metadata": {},
     "output_type": "execute_result"
    }
   ],
   "source": [
    "query = '''\n",
    "SELECT *\n",
    "FROM empleados\n",
    "WHERE nombre = \"Rosa Perez\"\n",
    "'''\n",
    "sql_query(query)"
   ]
  },
  {
   "cell_type": "code",
   "execution_count": null,
   "id": "366b2ff4-a41a-4381-bef6-f574fdeb6c79",
   "metadata": {},
   "outputs": [],
   "source": [
    "connection.commit()\n",
    "connection.close()"
   ]
  }
 ],
 "metadata": {
  "kernelspec": {
   "display_name": ".venv",
   "language": "python",
   "name": "python3"
  },
  "language_info": {
   "codemirror_mode": {
    "name": "ipython",
    "version": 3
   },
   "file_extension": ".py",
   "mimetype": "text/x-python",
   "name": "python",
   "nbconvert_exporter": "python",
   "pygments_lexer": "ipython3",
   "version": "3.13.5"
  }
 },
 "nbformat": 4,
 "nbformat_minor": 5
}
